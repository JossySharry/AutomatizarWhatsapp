{
 "cells": [
  {
   "cell_type": "code",
   "execution_count": 1,
   "metadata": {},
   "outputs": [
    {
     "name": "stdout",
     "output_type": "stream",
     "text": [
      "Suma:\n",
      " [[3 2]\n",
      " [4 7]]\n",
      "Multiplicación:\n",
      " [[ 4  6]\n",
      " [10 12]]\n",
      "Determinante de A: -2.0000000000000004\n",
      "Inversa de A:\n",
      " [[-2.   1. ]\n",
      " [ 1.5 -0.5]]\n",
      "Autovalores de A: [-0.37228132  5.37228132]\n",
      "Autovectores de A:\n",
      " [[-0.82456484 -0.41597356]\n",
      " [ 0.56576746 -0.90937671]]\n"
     ]
    }
   ],
   "source": [
    "import numpy as np\n",
    "\n",
    "# Definimos dos matrices\n",
    "A = np.array([[1, 2], [3, 4]])\n",
    "B = np.array([[2, 0], [1, 3]])\n",
    "\n",
    "# Suma de matrices\n",
    "suma = A + B\n",
    "\n",
    "# Multiplicación de matrices\n",
    "multiplicacion = np.dot(A, B)\n",
    "\n",
    "# Determinante de A\n",
    "det_A = np.linalg.det(A)\n",
    "\n",
    "# Inversa de A\n",
    "inv_A = np.linalg.inv(A)\n",
    "\n",
    "# Autovalores y autovectores de A\n",
    "autovalores, autovectores = np.linalg.eig(A)\n",
    "\n",
    "print(\"Suma:\\n\", suma)\n",
    "print(\"Multiplicación:\\n\", multiplicacion)\n",
    "print(\"Determinante de A:\", det_A)\n",
    "print(\"Inversa de A:\\n\", inv_A)\n",
    "print(\"Autovalores de A:\", autovalores)\n",
    "print(\"Autovectores de A:\\n\", autovectores)"
   ]
  },
  {
   "cell_type": "code",
   "execution_count": 2,
   "metadata": {},
   "outputs": [
    {
     "name": "stdout",
     "output_type": "stream",
     "text": [
      "Dimensión original: (100, 1000)\n",
      "Nueva dimensión: (100, 50)\n"
     ]
    }
   ],
   "source": [
    "from sklearn.decomposition import PCA\n",
    "import numpy as np\n",
    "\n",
    "# Creamos datos de ejemplo (imágenes representadas como matrices)\n",
    "imagenes = np.random.rand(100, 1000)  # 100 imágenes, cada una con 1000 píxeles\n",
    "\n",
    "# Aplicamos PCA para reducir a 50 dimensiones\n",
    "pca = PCA(n_components=50)\n",
    "imagenes_reducidas = pca.fit_transform(imagenes)\n",
    "\n",
    "print(\"Dimensión original:\", imagenes.shape)\n",
    "print(\"Nueva dimensión:\", imagenes_reducidas.shape)"
   ]
  },
  {
   "cell_type": "code",
   "execution_count": 3,
   "metadata": {},
   "outputs": [
    {
     "name": "stdout",
     "output_type": "stream",
     "text": [
      "Precio estimado: 199999.99999999994\n"
     ]
    }
   ],
   "source": [
    "from sklearn.linear_model import LinearRegression\n",
    "\n",
    "# Datos de ejemplo: [metros_cuadrados, habitaciones]\n",
    "X = np.array([[50, 2], [80, 3], [120, 4], [150, 5]])  \n",
    "y = np.array([100000, 200000, 300000, 400000])  # Precio de las casas\n",
    "\n",
    "# Creamos el modelo y entrenamos\n",
    "modelo = LinearRegression()\n",
    "modelo.fit(X, y)\n",
    "\n",
    "# Predicción para una nueva casa (100m², 3 habitaciones)\n",
    "prediccion = modelo.predict([[100, 3]])\n",
    "\n",
    "print(\"Precio estimado:\", prediccion[0])"
   ]
  }
 ],
 "metadata": {
  "kernelspec": {
   "display_name": "Python 3",
   "language": "python",
   "name": "python3"
  },
  "language_info": {
   "codemirror_mode": {
    "name": "ipython",
    "version": 3
   },
   "file_extension": ".py",
   "mimetype": "text/x-python",
   "name": "python",
   "nbconvert_exporter": "python",
   "pygments_lexer": "ipython3",
   "version": "3.11.4"
  }
 },
 "nbformat": 4,
 "nbformat_minor": 2
}
